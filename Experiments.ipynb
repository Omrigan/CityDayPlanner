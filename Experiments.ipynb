{
 "cells": [
  {
   "cell_type": "code",
   "execution_count": 1,
   "metadata": {},
   "outputs": [
    {
     "name": "stdout",
     "output_type": "stream",
     "text": [
      "app.py\t\t   lib.py\tparser.py     requirements.txt\r\n",
      "data\t\t   logic.py\tprocessor.py  settings.py\r\n",
      "Experiments.ipynb  parsed_data\t__pycache__   test.py\r\n"
     ]
    }
   ],
   "source": [
    "!ls"
   ]
  },
  {
   "cell_type": "code",
   "execution_count": 13,
   "metadata": {},
   "outputs": [
    {
     "name": "stdout",
     "output_type": "stream",
     "text": [
      "The autoreload extension is already loaded. To reload it, use:\n",
      "  %reload_ext autoreload\n"
     ]
    }
   ],
   "source": [
    "%load_ext autoreload\n",
    "\n",
    "%autoreload 2"
   ]
  },
  {
   "cell_type": "code",
   "execution_count": 14,
   "metadata": {},
   "outputs": [],
   "source": [
    "import logic\n",
    "from test import sample_request"
   ]
  },
  {
   "cell_type": "code",
   "execution_count": 40,
   "metadata": {},
   "outputs": [],
   "source": [
    "park_market = {\n",
    "            \"ordered_events\": [\n",
    "                {\"type\": \"fixed_place\",\n",
    "                 \"location\": {'lat': 55.7482874094539, 'lng': 37.5045326946992, },\n",
    "                 \"finish_time\": \"15:00\"},\n",
    "                {\"type\": \"park\",\n",
    "                 \"delay\": \"free\"},\n",
    "                {\"type\": \"market\",\n",
    "                 \"delay\": \"free\"},\n",
    "                 {\"type\": \"park\",\n",
    "                 \"delay\": \"free\"},\n",
    "#                 {\"type\": \"market\",\n",
    "#                  \"delay\": \"free\"},\n",
    "#                  {\"type\": \"park\",\n",
    "#                  \"delay\": \"free\"},\n",
    "#                 {\"type\": \"market\",\n",
    "#                  \"delay\": \"free\"},\n",
    "            ],\n",
    "            \"unordered_events\": []\n",
    "        }"
   ]
  },
  {
   "cell_type": "code",
   "execution_count": 41,
   "metadata": {},
   "outputs": [
    {
     "data": {
      "text/plain": [
       "{'route': [{'type': 'fixed_place',\n",
       "   'location': {'lat': 55.7482874094539, 'lng': 37.5045326946992},\n",
       "   'finish_time': '15:00'},\n",
       "  {'location': {'lat': 55.7482874094539, 'lng': 37.5045326946992},\n",
       "   'name': 'Детский парк «Фили»'},\n",
       "  {'location': {'lat': 55.742823, 'lng': 37.554205},\n",
       "   'name': 'Дорогомиловский рынок'},\n",
       "  {'location': {'lat': 55.7432971123594, 'lng': 37.552303129578},\n",
       "   'name': 'Парк по Студенческой улице'}],\n",
       " 'resulting_dist': 3308.889204276599}"
      ]
     },
     "execution_count": 41,
     "metadata": {},
     "output_type": "execute_result"
    }
   ],
   "source": [
    "job = logic.PredictJob(**park_market)\n",
    "job.predict()\n",
    "job.describe()"
   ]
  },
  {
   "cell_type": "code",
   "execution_count": 42,
   "metadata": {},
   "outputs": [
    {
     "data": {
      "text/plain": [
       "{'route': [{'type': 'fixed_place',\n",
       "   'location': {'lat': 55.7494539, 'lng': 37.62160470000001},\n",
       "   'finish_time': '15:00'},\n",
       "  {'location': {'lat': 55.7515994, 'lng': 37.6288575},\n",
       "   'name': 'Парк \"Зарядье\"'},\n",
       "  {'location': {'lat': 55.7527595, 'lng': 37.6268736},\n",
       "   'name': 'Порто Мальтезе'},\n",
       "  {'type': 'fixed_place',\n",
       "   'start_time': '23:00',\n",
       "   'location': {'lat': 55.7494539, 'lng': 37.62160470000001},\n",
       "   'delay': 20}],\n",
       " 'resulting_dist': 1188.609916143847}"
      ]
     },
     "execution_count": 42,
     "metadata": {},
     "output_type": "execute_result"
    }
   ],
   "source": [
    "job = logic.PredictJob(**sample_request)\n",
    "job.predict()\n",
    "job.describe()"
   ]
  },
  {
   "cell_type": "code",
   "execution_count": 34,
   "metadata": {},
   "outputs": [
    {
     "data": {
      "text/plain": [
       "{'route': [{'type': 'fixed_place',\n",
       "   'location': {'lat': 55.7482874094539, 'lng': 37.5045326946992},\n",
       "   'finish_time': '15:00'},\n",
       "  {'location': {'lat': 55.7482874094539, 'lng': 37.5045326946992},\n",
       "   'name': 'Детский парк «Фили»'},\n",
       "  {'location': {'lat': 55.742823, 'lng': 37.554205},\n",
       "   'name': 'Дорогомиловский рынок'},\n",
       "  {'location': {'lat': 55.7432971123594, 'lng': 37.552303129578},\n",
       "   'name': 'Парк по Студенческой улице'},\n",
       "  {'location': {'lat': 55.742823, 'lng': 37.554205},\n",
       "   'name': 'Дорогомиловский рынок'},\n",
       "  {'location': {'lat': 55.7432971123594, 'lng': 37.552303129578},\n",
       "   'name': 'Парк по Студенческой улице'},\n",
       "  {'location': {'lat': 55.742823, 'lng': 37.554205},\n",
       "   'name': 'Дорогомиловский рынок'}],\n",
       " 'resulting_dist': 3700.6674377156996}"
      ]
     },
     "execution_count": 34,
     "metadata": {},
     "output_type": "execute_result"
    }
   ],
   "source": []
  },
  {
   "cell_type": "code",
   "execution_count": 35,
   "metadata": {},
   "outputs": [],
   "source": [
    "lngs = [item['location']['lng'] for item in job.describe()['route']]\n",
    "lats = [item['location']['lat'] for item in job.describe()['route']]"
   ]
  },
  {
   "cell_type": "code",
   "execution_count": null,
   "metadata": {},
   "outputs": [],
   "source": [
    "### job.describe()"
   ]
  },
  {
   "cell_type": "code",
   "execution_count": 7,
   "metadata": {},
   "outputs": [
    {
     "data": {
      "text/plain": [
       "[37.62160470000001, 37.6288575, 37.6237843, 37.62160470000001]"
      ]
     },
     "execution_count": 7,
     "metadata": {},
     "output_type": "execute_result"
    }
   ],
   "source": [
    "lngs"
   ]
  },
  {
   "cell_type": "code",
   "execution_count": 36,
   "metadata": {},
   "outputs": [],
   "source": [
    "import seaborn as sb\n",
    "import matplotlib.pyplot as plt"
   ]
  },
  {
   "cell_type": "code",
   "execution_count": 38,
   "metadata": {},
   "outputs": [
    {
     "data": {
      "text/plain": [
       "[<matplotlib.lines.Line2D at 0x7f7b58e28b38>]"
      ]
     },
     "execution_count": 38,
     "metadata": {},
     "output_type": "execute_result"
    },
    {
     "data": {
      "image/png": "[encoded data removed]",
      "text/plain": [
       "<Figure size 432x288 with 1 Axes>"
      ]
     },
     "metadata": {},
     "output_type": "display_data"
    }
   ],
   "source": [
    "plt.plot(lats, lngs)"
   ]
  },
  {
   "cell_type": "code",
   "execution_count": null,
   "metadata": {},
   "outputs": [],
   "source": []
  }
 ],
 "metadata": {
  "kernelspec": {
   "display_name": "Python 3",
   "language": "python",
   "name": "python3"
  },
  "language_info": {
   "codemirror_mode": {
    "name": "ipython",
    "version": 3
   },
   "file_extension": ".py",
   "mimetype": "text/x-python",
   "name": "python",
   "nbconvert_exporter": "python",
   "pygments_lexer": "ipython3",
   "version": "3.7.0"
  }
 },
 "nbformat": 4,
 "nbformat_minor": 2
}
